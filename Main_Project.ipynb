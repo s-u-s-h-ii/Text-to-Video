{
  "nbformat": 4,
  "nbformat_minor": 0,
  "metadata": {
    "colab": {
      "provenance": [],
      "gpuType": "T4",
      "authorship_tag": "ABX9TyO7HX0apE4qPzLk+nJQXfab",
      "include_colab_link": true
    },
    "kernelspec": {
      "name": "python3",
      "display_name": "Python 3"
    },
    "language_info": {
      "name": "python"
    },
    "accelerator": "GPU"
  },
  "cells": [
    {
      "cell_type": "markdown",
      "metadata": {
        "id": "view-in-github",
        "colab_type": "text"
      },
      "source": [
        "<a href=\"https://colab.research.google.com/github/s-u-s-h-ii/Text-to-Video/blob/main/Main_Project.ipynb\" target=\"_parent\"><img src=\"https://colab.research.google.com/assets/colab-badge.svg\" alt=\"Open In Colab\"/></a>"
      ]
    },
    {
      "cell_type": "code",
      "execution_count": null,
      "metadata": {
        "id": "Weh-Gp9_kI48"
      },
      "outputs": [],
      "source": [
        "import os\n",
        "import torch\n",
        "from diffusers import DiffusionPipeline\n",
        "from gtts import gTTS\n",
        "import moviepy.editor as mp\n",
        "\n",
        "base_dir = \"/content\"\n",
        "text = 'In the vast expanse of the cosmos, two galactic empires clashed relentlessly. Laser beams pierced through the void, illuminating the darkness with their deadly dance. Planetary alliances trembled as the conflict escalated to unprecedented levels. Starships of immense power engaged in a ballet of destruction, their hulls gleaming with the scars of battle. Amidst the chaos, a courageous squadron led the charge, their resolve unyielding against the onslaught of enemy forces.'\n",
        "prompt_sentences = text.split('.')\n",
        "\n",
        "\n",
        "# Initialize the Diffusion Pipeline\n",
        "pipe = DiffusionPipeline.from_pretrained(\n",
        "    \"playgroundai/playground-v2-1024px-aesthetic\",\n",
        "    torch_dtype=torch.float16,\n",
        "    variant=\"fp16\"\n",
        ").to(\"cuda\")\n",
        "\n",
        "# Create directories to store generated files\n",
        "image_dir = os.path.join(base_dir, \"images\")\n",
        "audio_dir = os.path.join(base_dir, \"audio\")\n",
        "short_video_dir = os.path.join(base_dir, \"short_videos\")\n",
        "final_video_dir = os.path.join(base_dir, \"final_video\")\n",
        "os.makedirs(image_dir, exist_ok=True)\n",
        "os.makedirs(audio_dir, exist_ok=True)\n",
        "os.makedirs(short_video_dir, exist_ok=True)\n",
        "os.makedirs(final_video_dir, exist_ok=True)\n",
        "\n",
        "# Generate images and corresponding audio for each sentence\n",
        "for i, sentence in enumerate(prompt_sentences):\n",
        "    # Generate image\n",
        "    image = pipe(sentence).images[0]\n",
        "    image_path = os.path.join(image_dir, f\"image_{i}.png\")\n",
        "    image.save(image_path)\n",
        "\n",
        "    # Convert text to speech\n",
        "    tts = gTTS(sentence)\n",
        "    audio_path = os.path.join(audio_dir, f\"audio_{i}.mp3\")\n",
        "    tts.save(audio_path)\n",
        "\n",
        "# Convert each image to a short video clip\n",
        "for i in range(len(prompt_sentences)):\n",
        "    image_path = os.path.join(image_dir, f\"image_{i}.png\")\n",
        "    video_clip_path = os.path.join(short_video_dir, f\"video_{i}.mp4\")\n",
        "\n",
        "    # Create a short video clip from the image\n",
        "    clip = mp.ImageClip(image_path, duration=2)  # Adjust duration as needed\n",
        "    clip.write_videofile(video_clip_path, fps=24)\n",
        "\n",
        "# Combine images with audio into a video\n",
        "video_clips = []\n",
        "for i in range(len(prompt_sentences)):\n",
        "    video_clip_path = os.path.join(short_video_dir, f\"video_{i}.mp4\")\n",
        "    audio_path = os.path.join(audio_dir, f\"audio_{i}.mp3\")\n",
        "    video_clip = mp.VideoFileClip(video_clip_path)\n",
        "    audio_clip = mp.AudioFileClip(audio_path)\n",
        "    video_clip = video_clip.set_audio(audio_clip)\n",
        "    video_clips.append(video_clip)\n",
        "\n",
        "final_video = mp.concatenate_videoclips(video_clips, method=\"compose\")\n",
        "final_video_path = os.path.join(final_video_dir, \"final_video.mp4\")\n",
        "final_video.write_videofile(final_video_path, codec=\"libx264\", fps=24)\n",
        "\n",
        "print(f\"Saved final video to {final_video_path}\")"
      ]
    }
  ]
}